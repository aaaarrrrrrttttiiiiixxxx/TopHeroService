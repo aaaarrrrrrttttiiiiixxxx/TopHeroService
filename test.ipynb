{
 "cells": [
  {
   "cell_type": "code",
   "execution_count": 1,
   "id": "initial_id",
   "metadata": {
    "collapsed": true,
    "ExecuteTime": {
     "end_time": "2024-07-12T20:10:25.656092Z",
     "start_time": "2024-07-12T20:10:25.369961Z"
    }
   },
   "outputs": [],
   "source": [
    "import json\n",
    "\n",
    "import requests\n",
    "\n",
    "token = None\n",
    "user_id = 1\n",
    "url = \"http://127.0.0.1:8000\"\n",
    "response = None"
   ]
  },
  {
   "cell_type": "code",
   "outputs": [],
   "source": [
    "def get_token():\n",
    "    global response\n",
    "    global token\n",
    "    res = requests.post(f'{url}/token/', params={'user_id': user_id})\n",
    "    print(res.status_code)\n",
    "    response = res.json()\n",
    "    token = response['access_token']\n",
    "    \n",
    "\n",
    "def user_votes(patch_name = '7.36b'):\n",
    "    global response\n",
    "    global token\n",
    "    res = requests.get(f'{url}/user_votes/', params={'patch_name': patch_name}, headers={'Cookie': f'anything-cookie=Bearer {token}'})\n",
    "    print(res.status_code)\n",
    "    response = res.json()\n"
   ],
   "metadata": {
    "collapsed": false,
    "ExecuteTime": {
     "end_time": "2024-07-12T20:10:27.638427Z",
     "start_time": "2024-07-12T20:10:27.634065Z"
    }
   },
   "id": "caabc91bb67748f",
   "execution_count": 2
  },
  {
   "cell_type": "code",
   "outputs": [
    {
     "name": "stdout",
     "output_type": "stream",
     "text": [
      "200\n"
     ]
    }
   ],
   "source": [
    "get_token()"
   ],
   "metadata": {
    "collapsed": false,
    "ExecuteTime": {
     "end_time": "2024-07-12T20:10:29.858092Z",
     "start_time": "2024-07-12T20:10:29.847043Z"
    }
   },
   "id": "9e5dc4de324f9d37",
   "execution_count": 3
  },
  {
   "cell_type": "code",
   "outputs": [
    {
     "name": "stdout",
     "output_type": "stream",
     "text": [
      "200\n"
     ]
    }
   ],
   "source": [
    "user_votes()"
   ],
   "metadata": {
    "collapsed": false,
    "ExecuteTime": {
     "end_time": "2024-07-12T20:10:59.500083Z",
     "start_time": "2024-07-12T20:10:43.409532Z"
    }
   },
   "id": "677c0803d20b1b2f",
   "execution_count": 5
  },
  {
   "cell_type": "code",
   "outputs": [
    {
     "data": {
      "text/plain": "[{'voting': 'KERRY',\n  'top_heroes': [{'name': 'sven', 'photo_url': None},\n   {'name': 'terrorblade', 'photo_url': None}]}]"
     },
     "execution_count": 50,
     "metadata": {},
     "output_type": "execute_result"
    }
   ],
   "source": [
    "response"
   ],
   "metadata": {
    "collapsed": false,
    "ExecuteTime": {
     "end_time": "2024-07-03T20:53:24.328382Z",
     "start_time": "2024-07-03T20:53:24.321848Z"
    }
   },
   "id": "c74c7f2b2415734",
   "execution_count": 50
  }
 ],
 "metadata": {
  "kernelspec": {
   "display_name": "Python 3",
   "language": "python",
   "name": "python3"
  },
  "language_info": {
   "codemirror_mode": {
    "name": "ipython",
    "version": 2
   },
   "file_extension": ".py",
   "mimetype": "text/x-python",
   "name": "python",
   "nbconvert_exporter": "python",
   "pygments_lexer": "ipython2",
   "version": "2.7.6"
  }
 },
 "nbformat": 4,
 "nbformat_minor": 5
}
